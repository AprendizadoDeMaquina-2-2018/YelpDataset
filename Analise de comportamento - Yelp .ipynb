{
 "cells": [
  {
   "cell_type": "code",
   "execution_count": 1,
   "metadata": {
    "scrolled": true
   },
   "outputs": [],
   "source": [
    "import pandas as pd\n",
    "import numpy as np\n",
    "import matplotlib.pyplot as plt\n",
    "%matplotlib inline"
   ]
  },
  {
   "cell_type": "code",
   "execution_count": 2,
   "metadata": {
    "scrolled": true
   },
   "outputs": [],
   "source": [
    "df = pd.read_csv('YelpDataset/df.csv')"
   ]
  },
  {
   "cell_type": "code",
   "execution_count": 19,
   "metadata": {
    "scrolled": false
   },
   "outputs": [
    {
     "data": {
      "text/html": [
       "<div>\n",
       "<style scoped>\n",
       "    .dataframe tbody tr th:only-of-type {\n",
       "        vertical-align: middle;\n",
       "    }\n",
       "\n",
       "    .dataframe tbody tr th {\n",
       "        vertical-align: top;\n",
       "    }\n",
       "\n",
       "    .dataframe thead th {\n",
       "        text-align: right;\n",
       "    }\n",
       "</style>\n",
       "<table border=\"1\" class=\"dataframe\">\n",
       "  <thead>\n",
       "    <tr style=\"text-align: right;\">\n",
       "      <th></th>\n",
       "      <th>Unnamed: 0</th>\n",
       "      <th>Auto Repair</th>\n",
       "      <th>Grocery</th>\n",
       "      <th>Interior Design</th>\n",
       "      <th>Restaurants</th>\n",
       "      <th>Sushi Bars</th>\n",
       "      <th>Tobacco Shops</th>\n",
       "      <th>Diners</th>\n",
       "      <th>Drugstores</th>\n",
       "      <th>Hardware Stores</th>\n",
       "      <th>...</th>\n",
       "      <th>Hotels &amp; Travel</th>\n",
       "      <th>Steakhouses</th>\n",
       "      <th>Education</th>\n",
       "      <th>Airport Shuttles</th>\n",
       "      <th>Computers</th>\n",
       "      <th>Vegan</th>\n",
       "      <th>Bars</th>\n",
       "      <th>IT Services &amp; Computer Repair</th>\n",
       "      <th>Cajun/Creole</th>\n",
       "      <th>Farmers Market</th>\n",
       "    </tr>\n",
       "  </thead>\n",
       "  <tbody>\n",
       "    <tr>\n",
       "      <th>0</th>\n",
       "      <td>JE2qFjL4BaUbiI-cT5MSBw</td>\n",
       "      <td>0.0</td>\n",
       "      <td>0.0</td>\n",
       "      <td>0.0</td>\n",
       "      <td>0.0</td>\n",
       "      <td>1.0</td>\n",
       "      <td>0.0</td>\n",
       "      <td>0.0</td>\n",
       "      <td>2.0</td>\n",
       "      <td>0.0</td>\n",
       "      <td>...</td>\n",
       "      <td>0.0</td>\n",
       "      <td>0.0</td>\n",
       "      <td>0.0</td>\n",
       "      <td>0.0</td>\n",
       "      <td>0.0</td>\n",
       "      <td>1.0</td>\n",
       "      <td>1.0</td>\n",
       "      <td>0.0</td>\n",
       "      <td>0.0</td>\n",
       "      <td>0.0</td>\n",
       "    </tr>\n",
       "    <tr>\n",
       "      <th>1</th>\n",
       "      <td>4rYg5UywNqmKywRWJXOp4g</td>\n",
       "      <td>0.0</td>\n",
       "      <td>0.0</td>\n",
       "      <td>0.0</td>\n",
       "      <td>0.0</td>\n",
       "      <td>0.0</td>\n",
       "      <td>0.0</td>\n",
       "      <td>0.0</td>\n",
       "      <td>0.0</td>\n",
       "      <td>0.0</td>\n",
       "      <td>...</td>\n",
       "      <td>0.0</td>\n",
       "      <td>0.0</td>\n",
       "      <td>0.0</td>\n",
       "      <td>0.0</td>\n",
       "      <td>0.0</td>\n",
       "      <td>0.0</td>\n",
       "      <td>0.0</td>\n",
       "      <td>0.0</td>\n",
       "      <td>0.0</td>\n",
       "      <td>0.0</td>\n",
       "    </tr>\n",
       "    <tr>\n",
       "      <th>2</th>\n",
       "      <td>ulQ8Nyj7jCUR8M83SUMoRQ</td>\n",
       "      <td>0.0</td>\n",
       "      <td>0.0</td>\n",
       "      <td>0.0</td>\n",
       "      <td>1.0</td>\n",
       "      <td>0.0</td>\n",
       "      <td>0.0</td>\n",
       "      <td>0.0</td>\n",
       "      <td>0.0</td>\n",
       "      <td>0.0</td>\n",
       "      <td>...</td>\n",
       "      <td>0.0</td>\n",
       "      <td>0.0</td>\n",
       "      <td>0.0</td>\n",
       "      <td>0.0</td>\n",
       "      <td>0.0</td>\n",
       "      <td>0.0</td>\n",
       "      <td>1.0</td>\n",
       "      <td>0.0</td>\n",
       "      <td>0.0</td>\n",
       "      <td>0.0</td>\n",
       "    </tr>\n",
       "    <tr>\n",
       "      <th>3</th>\n",
       "      <td>ZcLKXikTHYOnYt5VYRO5sg</td>\n",
       "      <td>0.0</td>\n",
       "      <td>0.0</td>\n",
       "      <td>0.0</td>\n",
       "      <td>0.0</td>\n",
       "      <td>0.0</td>\n",
       "      <td>0.0</td>\n",
       "      <td>0.0</td>\n",
       "      <td>0.0</td>\n",
       "      <td>0.0</td>\n",
       "      <td>...</td>\n",
       "      <td>0.0</td>\n",
       "      <td>0.0</td>\n",
       "      <td>0.0</td>\n",
       "      <td>0.0</td>\n",
       "      <td>0.0</td>\n",
       "      <td>0.0</td>\n",
       "      <td>0.0</td>\n",
       "      <td>0.0</td>\n",
       "      <td>0.0</td>\n",
       "      <td>0.0</td>\n",
       "    </tr>\n",
       "    <tr>\n",
       "      <th>4</th>\n",
       "      <td>PZNMPWCViVX8JLsn10MSnQ</td>\n",
       "      <td>0.0</td>\n",
       "      <td>3.0</td>\n",
       "      <td>1.0</td>\n",
       "      <td>5.0</td>\n",
       "      <td>0.0</td>\n",
       "      <td>0.0</td>\n",
       "      <td>0.0</td>\n",
       "      <td>7.0</td>\n",
       "      <td>1.0</td>\n",
       "      <td>...</td>\n",
       "      <td>3.0</td>\n",
       "      <td>0.0</td>\n",
       "      <td>1.0</td>\n",
       "      <td>0.0</td>\n",
       "      <td>0.0</td>\n",
       "      <td>0.0</td>\n",
       "      <td>0.0</td>\n",
       "      <td>0.0</td>\n",
       "      <td>1.0</td>\n",
       "      <td>0.0</td>\n",
       "    </tr>\n",
       "    <tr>\n",
       "      <th>5</th>\n",
       "      <td>ObtNPACE7Cv07k9t7aM2YQ</td>\n",
       "      <td>0.0</td>\n",
       "      <td>0.0</td>\n",
       "      <td>0.0</td>\n",
       "      <td>0.0</td>\n",
       "      <td>0.0</td>\n",
       "      <td>0.0</td>\n",
       "      <td>0.0</td>\n",
       "      <td>0.0</td>\n",
       "      <td>0.0</td>\n",
       "      <td>...</td>\n",
       "      <td>0.0</td>\n",
       "      <td>0.0</td>\n",
       "      <td>0.0</td>\n",
       "      <td>0.0</td>\n",
       "      <td>0.0</td>\n",
       "      <td>0.0</td>\n",
       "      <td>0.0</td>\n",
       "      <td>0.0</td>\n",
       "      <td>0.0</td>\n",
       "      <td>0.0</td>\n",
       "    </tr>\n",
       "    <tr>\n",
       "      <th>6</th>\n",
       "      <td>e7CFEOn4y2dsS61-9SbCeA</td>\n",
       "      <td>0.0</td>\n",
       "      <td>0.0</td>\n",
       "      <td>0.0</td>\n",
       "      <td>2.0</td>\n",
       "      <td>0.0</td>\n",
       "      <td>0.0</td>\n",
       "      <td>0.0</td>\n",
       "      <td>0.0</td>\n",
       "      <td>0.0</td>\n",
       "      <td>...</td>\n",
       "      <td>0.0</td>\n",
       "      <td>0.0</td>\n",
       "      <td>0.0</td>\n",
       "      <td>0.0</td>\n",
       "      <td>0.0</td>\n",
       "      <td>0.0</td>\n",
       "      <td>1.0</td>\n",
       "      <td>0.0</td>\n",
       "      <td>0.0</td>\n",
       "      <td>0.0</td>\n",
       "    </tr>\n",
       "    <tr>\n",
       "      <th>7</th>\n",
       "      <td>bMBJlqFfwslLXJmoMNuTJA</td>\n",
       "      <td>0.0</td>\n",
       "      <td>0.0</td>\n",
       "      <td>0.0</td>\n",
       "      <td>0.0</td>\n",
       "      <td>0.0</td>\n",
       "      <td>0.0</td>\n",
       "      <td>0.0</td>\n",
       "      <td>0.0</td>\n",
       "      <td>0.0</td>\n",
       "      <td>...</td>\n",
       "      <td>0.0</td>\n",
       "      <td>0.0</td>\n",
       "      <td>0.0</td>\n",
       "      <td>0.0</td>\n",
       "      <td>0.0</td>\n",
       "      <td>0.0</td>\n",
       "      <td>0.0</td>\n",
       "      <td>0.0</td>\n",
       "      <td>0.0</td>\n",
       "      <td>0.0</td>\n",
       "    </tr>\n",
       "    <tr>\n",
       "      <th>8</th>\n",
       "      <td>blrWvPePSv87aU9hV1Zd8Q</td>\n",
       "      <td>0.0</td>\n",
       "      <td>2.0</td>\n",
       "      <td>0.0</td>\n",
       "      <td>9.0</td>\n",
       "      <td>0.0</td>\n",
       "      <td>0.0</td>\n",
       "      <td>0.0</td>\n",
       "      <td>4.0</td>\n",
       "      <td>0.0</td>\n",
       "      <td>...</td>\n",
       "      <td>0.0</td>\n",
       "      <td>1.0</td>\n",
       "      <td>0.0</td>\n",
       "      <td>0.0</td>\n",
       "      <td>0.0</td>\n",
       "      <td>0.0</td>\n",
       "      <td>9.0</td>\n",
       "      <td>0.0</td>\n",
       "      <td>1.0</td>\n",
       "      <td>3.0</td>\n",
       "    </tr>\n",
       "    <tr>\n",
       "      <th>9</th>\n",
       "      <td>fmzIm7RxEdii5Jz44PtO7g</td>\n",
       "      <td>8.0</td>\n",
       "      <td>2.0</td>\n",
       "      <td>0.0</td>\n",
       "      <td>14.0</td>\n",
       "      <td>0.0</td>\n",
       "      <td>0.0</td>\n",
       "      <td>1.0</td>\n",
       "      <td>1.0</td>\n",
       "      <td>0.0</td>\n",
       "      <td>...</td>\n",
       "      <td>1.0</td>\n",
       "      <td>1.0</td>\n",
       "      <td>2.0</td>\n",
       "      <td>0.0</td>\n",
       "      <td>3.0</td>\n",
       "      <td>0.0</td>\n",
       "      <td>9.0</td>\n",
       "      <td>3.0</td>\n",
       "      <td>0.0</td>\n",
       "      <td>1.0</td>\n",
       "    </tr>\n",
       "  </tbody>\n",
       "</table>\n",
       "<p>10 rows × 229 columns</p>\n",
       "</div>"
      ],
      "text/plain": [
       "               Unnamed: 0   Auto Repair  Grocery   Interior Design  \\\n",
       "0  JE2qFjL4BaUbiI-cT5MSBw           0.0      0.0               0.0   \n",
       "1  4rYg5UywNqmKywRWJXOp4g           0.0      0.0               0.0   \n",
       "2  ulQ8Nyj7jCUR8M83SUMoRQ           0.0      0.0               0.0   \n",
       "3  ZcLKXikTHYOnYt5VYRO5sg           0.0      0.0               0.0   \n",
       "4  PZNMPWCViVX8JLsn10MSnQ           0.0      3.0               1.0   \n",
       "5  ObtNPACE7Cv07k9t7aM2YQ           0.0      0.0               0.0   \n",
       "6  e7CFEOn4y2dsS61-9SbCeA           0.0      0.0               0.0   \n",
       "7  bMBJlqFfwslLXJmoMNuTJA           0.0      0.0               0.0   \n",
       "8  blrWvPePSv87aU9hV1Zd8Q           0.0      2.0               0.0   \n",
       "9  fmzIm7RxEdii5Jz44PtO7g           8.0      2.0               0.0   \n",
       "\n",
       "   Restaurants   Sushi Bars   Tobacco Shops  Diners   Drugstores  \\\n",
       "0          0.0          1.0             0.0     0.0          2.0   \n",
       "1          0.0          0.0             0.0     0.0          0.0   \n",
       "2          1.0          0.0             0.0     0.0          0.0   \n",
       "3          0.0          0.0             0.0     0.0          0.0   \n",
       "4          5.0          0.0             0.0     0.0          7.0   \n",
       "5          0.0          0.0             0.0     0.0          0.0   \n",
       "6          2.0          0.0             0.0     0.0          0.0   \n",
       "7          0.0          0.0             0.0     0.0          0.0   \n",
       "8          9.0          0.0             0.0     0.0          4.0   \n",
       "9         14.0          0.0             0.0     1.0          1.0   \n",
       "\n",
       "    Hardware Stores       ...          Hotels & Travel   Steakhouses  \\\n",
       "0               0.0       ...                      0.0           0.0   \n",
       "1               0.0       ...                      0.0           0.0   \n",
       "2               0.0       ...                      0.0           0.0   \n",
       "3               0.0       ...                      0.0           0.0   \n",
       "4               1.0       ...                      3.0           0.0   \n",
       "5               0.0       ...                      0.0           0.0   \n",
       "6               0.0       ...                      0.0           0.0   \n",
       "7               0.0       ...                      0.0           0.0   \n",
       "8               0.0       ...                      0.0           1.0   \n",
       "9               0.0       ...                      1.0           1.0   \n",
       "\n",
       "    Education   Airport Shuttles   Computers  Vegan   Bars  \\\n",
       "0         0.0                0.0         0.0    1.0    1.0   \n",
       "1         0.0                0.0         0.0    0.0    0.0   \n",
       "2         0.0                0.0         0.0    0.0    1.0   \n",
       "3         0.0                0.0         0.0    0.0    0.0   \n",
       "4         1.0                0.0         0.0    0.0    0.0   \n",
       "5         0.0                0.0         0.0    0.0    0.0   \n",
       "6         0.0                0.0         0.0    0.0    1.0   \n",
       "7         0.0                0.0         0.0    0.0    0.0   \n",
       "8         0.0                0.0         0.0    0.0    9.0   \n",
       "9         2.0                0.0         3.0    0.0    9.0   \n",
       "\n",
       "    IT Services & Computer Repair   Cajun/Creole   Farmers Market  \n",
       "0                             0.0            0.0              0.0  \n",
       "1                             0.0            0.0              0.0  \n",
       "2                             0.0            0.0              0.0  \n",
       "3                             0.0            0.0              0.0  \n",
       "4                             0.0            1.0              0.0  \n",
       "5                             0.0            0.0              0.0  \n",
       "6                             0.0            0.0              0.0  \n",
       "7                             0.0            0.0              0.0  \n",
       "8                             0.0            1.0              3.0  \n",
       "9                             3.0            0.0              1.0  \n",
       "\n",
       "[10 rows x 229 columns]"
      ]
     },
     "execution_count": 19,
     "metadata": {},
     "output_type": "execute_result"
    }
   ],
   "source": [
    "df.head(10)"
   ]
  },
  {
   "cell_type": "code",
   "execution_count": 4,
   "metadata": {
    "scrolled": true
   },
   "outputs": [
    {
     "name": "stdout",
     "output_type": "stream",
     "text": [
      "<class 'pandas.core.frame.DataFrame'>\n",
      "RangeIndex: 30 entries, 0 to 29\n",
      "Columns: 229 entries, Unnamed: 0 to  Farmers Market\n",
      "dtypes: float64(228), object(1)\n",
      "memory usage: 53.8+ KB\n"
     ]
    }
   ],
   "source": [
    "df.info()"
   ]
  },
  {
   "cell_type": "code",
   "execution_count": 5,
   "metadata": {
    "scrolled": true
   },
   "outputs": [],
   "source": [
    "# Retirando id's dos usuários\n",
    "X = df.drop(['Unnamed: 0'], axis=1)"
   ]
  },
  {
   "cell_type": "code",
   "execution_count": 6,
   "metadata": {
    "scrolled": true
   },
   "outputs": [
    {
     "data": {
      "image/png": "[encoded data removed]",
      "text/plain": [
       "<Figure size 432x288 with 1 Axes>"
      ]
     },
     "metadata": {
      "needs_background": "light"
     },
     "output_type": "display_data"
    }
   ],
   "source": [
    "from sklearn.cluster import KMeans\n",
    "import numpy as np\n",
    "from scipy.spatial.distance import cdist\n",
    "\n",
    "# Método do cotovelo\n",
    "distortions = []\n",
    "K = range(1,15)\n",
    "for k in K:\n",
    "    kmeanModel = KMeans(n_clusters=k).fit(X)\n",
    "    kmeanModel.fit(X)\n",
    "    distortions.append(sum(np.min(cdist(X, kmeanModel.cluster_centers_, 'euclidean'), axis=1)) / X.shape[0])\n",
    "\n",
    "plt.plot(K, distortions, 'bx-')\n",
    "plt.xlabel('k')\n",
    "plt.ylabel('Distortion')\n",
    "plt.title('The Elbow Method showing the optimal k')\n",
    "plt.show()"
   ]
  },
  {
   "cell_type": "code",
   "execution_count": 16,
   "metadata": {
    "scrolled": true
   },
   "outputs": [
    {
     "name": "stdout",
     "output_type": "stream",
     "text": [
      "[0 0 0 0 3 0 0 0 2 1 0 0 0 0 4 0 0 0 0 0 0 0 0 0 0 0 0 0 0 0]\n"
     ]
    }
   ],
   "source": [
    "kmeans = KMeans(n_clusters=5)\n",
    "kmeans.fit(X)\n",
    "predict = kmeans.fit_predict(X)\n",
    "print(predict)"
   ]
  },
  {
   "cell_type": "code",
   "execution_count": 17,
   "metadata": {
    "scrolled": true
   },
   "outputs": [
    {
     "data": {
      "text/plain": [
       "array([[ 0.00000000e+00, -2.77555756e-17,  0.00000000e+00,\n",
       "         2.69230769e-01,  3.84615385e-02,  0.00000000e+00,\n",
       "         0.00000000e+00,  7.69230769e-02,  0.00000000e+00,\n",
       "         3.84615385e-02,  0.00000000e+00,  2.22044605e-16,\n",
       "        -2.77555756e-17, -2.77555756e-17,  0.00000000e+00,\n",
       "         0.00000000e+00,  0.00000000e+00,  0.00000000e+00,\n",
       "         3.84615385e-02,  0.00000000e+00,  3.84615385e-02,\n",
       "         3.84615385e-02,  3.84615385e-02,  0.00000000e+00,\n",
       "        -2.77555756e-17, -5.55111512e-17,  7.69230769e-02,\n",
       "         3.84615385e-02,  2.77555756e-17,  3.84615385e-02,\n",
       "         0.00000000e+00,  3.84615385e-02,  3.84615385e-02,\n",
       "         3.84615385e-02,  0.00000000e+00,  3.84615385e-02,\n",
       "         2.69230769e-01, -2.77555756e-17,  1.53846154e-01,\n",
       "         0.00000000e+00, -2.77555756e-17,  3.84615385e-02,\n",
       "         2.77555756e-17,  0.00000000e+00,  3.84615385e-02,\n",
       "         0.00000000e+00,  3.84615385e-02,  3.84615385e-02,\n",
       "         0.00000000e+00,  3.84615385e-02,  3.84615385e-02,\n",
       "         0.00000000e+00,  1.15384615e-01,  3.84615385e-02,\n",
       "         2.77555756e-17,  7.69230769e-02,  0.00000000e+00,\n",
       "         0.00000000e+00,  0.00000000e+00,  0.00000000e+00,\n",
       "         0.00000000e+00,  0.00000000e+00, -2.77555756e-17,\n",
       "        -2.77555756e-17, -2.77555756e-17,  3.84615385e-02,\n",
       "         0.00000000e+00,  0.00000000e+00,  3.84615385e-02,\n",
       "         3.84615385e-02, -2.77555756e-17,  7.69230769e-02,\n",
       "        -2.77555756e-17,  1.15384615e-01,  0.00000000e+00,\n",
       "         1.15384615e-01,  2.77555756e-17,  3.84615385e-02,\n",
       "        -5.55111512e-17,  5.55111512e-17,  0.00000000e+00,\n",
       "         7.69230769e-02,  0.00000000e+00,  0.00000000e+00,\n",
       "         0.00000000e+00,  0.00000000e+00, -5.55111512e-17,\n",
       "         7.69230769e-02,  3.84615385e-02,  3.84615385e-02,\n",
       "         3.84615385e-02,  3.84615385e-02,  0.00000000e+00,\n",
       "         7.69230769e-02,  0.00000000e+00,  7.69230769e-02,\n",
       "         0.00000000e+00,  1.15384615e-01,  5.76923077e-01,\n",
       "         0.00000000e+00,  0.00000000e+00,  1.15384615e-01,\n",
       "         7.69230769e-02,  3.84615385e-02,  3.84615385e-02,\n",
       "        -2.77555756e-17,  0.00000000e+00,  1.15384615e-01,\n",
       "         0.00000000e+00,  1.15384615e-01,  0.00000000e+00,\n",
       "        -1.11022302e-16,  3.84615385e-02,  3.84615385e-02,\n",
       "         1.11022302e-16,  1.15384615e-01, -2.77555756e-17,\n",
       "         7.69230769e-02,  0.00000000e+00,  3.84615385e-02,\n",
       "         0.00000000e+00,  1.00000000e+00,  0.00000000e+00,\n",
       "         0.00000000e+00,  1.15384615e-01,  0.00000000e+00,\n",
       "         2.77555756e-17,  7.69230769e-02,  0.00000000e+00,\n",
       "         3.84615385e-02,  0.00000000e+00, -2.77555756e-17,\n",
       "         0.00000000e+00,  1.15384615e-01,  3.84615385e-02,\n",
       "         0.00000000e+00,  1.15384615e-01,  3.84615385e-02,\n",
       "         0.00000000e+00,  2.77555756e-17,  3.84615385e-02,\n",
       "        -2.77555756e-17,  3.84615385e-02,  7.69230769e-02,\n",
       "         0.00000000e+00,  3.84615385e-02,  0.00000000e+00,\n",
       "         0.00000000e+00,  1.15384615e-01,  2.30769231e-01,\n",
       "         0.00000000e+00,  1.15384615e-01,  0.00000000e+00,\n",
       "         3.84615385e-02,  3.84615385e-02,  1.15384615e-01,\n",
       "         0.00000000e+00,  7.69230769e-02,  0.00000000e+00,\n",
       "        -2.77555756e-17,  0.00000000e+00,  0.00000000e+00,\n",
       "         0.00000000e+00,  0.00000000e+00,  1.15384615e-01,\n",
       "         3.84615385e-02,  3.84615385e-02,  3.84615385e-02,\n",
       "         0.00000000e+00,  7.69230769e-02,  7.69230769e-02,\n",
       "         7.69230769e-02,  0.00000000e+00, -2.77555756e-17,\n",
       "         0.00000000e+00,  3.84615385e-02,  1.53846154e-01,\n",
       "         2.69230769e-01,  0.00000000e+00,  3.84615385e-02,\n",
       "         3.84615385e-02,  0.00000000e+00,  3.84615385e-02,\n",
       "        -2.77555756e-17,  2.77555756e-17,  0.00000000e+00,\n",
       "         0.00000000e+00,  0.00000000e+00, -1.11022302e-16,\n",
       "         0.00000000e+00,  7.69230769e-02,  0.00000000e+00,\n",
       "         3.84615385e-02,  1.15384615e-01,  5.55111512e-17,\n",
       "         0.00000000e+00,  3.84615385e-02,  0.00000000e+00,\n",
       "         0.00000000e+00,  3.84615385e-02,  0.00000000e+00,\n",
       "         3.84615385e-02,  7.69230769e-02,  0.00000000e+00,\n",
       "         0.00000000e+00,  2.77555756e-17,  3.84615385e-02,\n",
       "        -2.77555756e-17,  0.00000000e+00,  3.84615385e-02,\n",
       "         3.84615385e-02,  0.00000000e+00,  0.00000000e+00,\n",
       "         3.84615385e-02,  1.15384615e-01, -2.77555756e-17,\n",
       "         1.53846154e-01,  0.00000000e+00,  3.46153846e-01,\n",
       "         0.00000000e+00, -2.77555756e-17,  3.84615385e-02,\n",
       "        -2.77555756e-17,  3.84615385e-02,  1.53846154e-01,\n",
       "        -2.77555756e-17, -2.77555756e-17,  0.00000000e+00],\n",
       "       [ 8.00000000e+00,  2.00000000e+00,  0.00000000e+00,\n",
       "         1.40000000e+01,  0.00000000e+00,  0.00000000e+00,\n",
       "         1.00000000e+00,  1.00000000e+00,  0.00000000e+00,\n",
       "         1.00000000e+00,  0.00000000e+00,  1.80000000e+01,\n",
       "         0.00000000e+00,  6.00000000e+00,  0.00000000e+00,\n",
       "         2.00000000e+00,  1.00000000e+00,  0.00000000e+00,\n",
       "         0.00000000e+00,  0.00000000e+00,  6.00000000e+00,\n",
       "         3.00000000e+00,  0.00000000e+00,  2.00000000e+00,\n",
       "         0.00000000e+00,  2.00000000e+00,  0.00000000e+00,\n",
       "         0.00000000e+00,  2.00000000e+00,  0.00000000e+00,\n",
       "         0.00000000e+00,  0.00000000e+00,  0.00000000e+00,\n",
       "         0.00000000e+00,  1.00000000e+00,  0.00000000e+00,\n",
       "         5.00000000e+00,  1.00000000e+00,  1.00000000e+00,\n",
       "         0.00000000e+00,  0.00000000e+00,  0.00000000e+00,\n",
       "         5.00000000e+00,  0.00000000e+00,  0.00000000e+00,\n",
       "         1.00000000e+00,  0.00000000e+00,  0.00000000e+00,\n",
       "         0.00000000e+00,  0.00000000e+00,  1.00000000e+00,\n",
       "         0.00000000e+00,  0.00000000e+00,  0.00000000e+00,\n",
       "         5.00000000e+00,  0.00000000e+00,  1.00000000e+00,\n",
       "         0.00000000e+00,  0.00000000e+00,  1.00000000e+00,\n",
       "         3.00000000e+00,  0.00000000e+00,  3.00000000e+00,\n",
       "         1.00000000e+00,  1.00000000e+00,  0.00000000e+00,\n",
       "         2.00000000e+00,  0.00000000e+00,  6.00000000e+00,\n",
       "         0.00000000e+00,  0.00000000e+00,  3.00000000e+00,\n",
       "         0.00000000e+00,  3.00000000e+00,  1.00000000e+00,\n",
       "         0.00000000e+00,  5.00000000e+00,  0.00000000e+00,\n",
       "         5.00000000e+00,  4.00000000e+00,  0.00000000e+00,\n",
       "         7.00000000e+00,  0.00000000e+00,  0.00000000e+00,\n",
       "         2.00000000e+00,  1.00000000e+00,  5.00000000e+00,\n",
       "         7.00000000e+00,  0.00000000e+00,  0.00000000e+00,\n",
       "         0.00000000e+00,  0.00000000e+00,  0.00000000e+00,\n",
       "         3.00000000e+00,  1.00000000e+00,  0.00000000e+00,\n",
       "         1.00000000e+00,  3.00000000e+00,  1.60000000e+01,\n",
       "         0.00000000e+00,  2.00000000e+00,  4.00000000e+00,\n",
       "         0.00000000e+00,  0.00000000e+00,  0.00000000e+00,\n",
       "         0.00000000e+00,  0.00000000e+00,  3.00000000e+00,\n",
       "         0.00000000e+00,  0.00000000e+00,  0.00000000e+00,\n",
       "         0.00000000e+00,  0.00000000e+00,  0.00000000e+00,\n",
       "         0.00000000e+00,  4.00000000e+00,  0.00000000e+00,\n",
       "         1.00000000e+00,  0.00000000e+00,  5.00000000e+00,\n",
       "         2.00000000e+00,  2.50000000e+01,  2.00000000e+00,\n",
       "         0.00000000e+00,  5.00000000e+00,  0.00000000e+00,\n",
       "         0.00000000e+00,  0.00000000e+00,  0.00000000e+00,\n",
       "         0.00000000e+00,  1.00000000e+00,  0.00000000e+00,\n",
       "         0.00000000e+00,  0.00000000e+00,  0.00000000e+00,\n",
       "         0.00000000e+00,  6.00000000e+00,  3.00000000e+00,\n",
       "         0.00000000e+00,  0.00000000e+00,  4.00000000e+00,\n",
       "         0.00000000e+00,  0.00000000e+00,  0.00000000e+00,\n",
       "         0.00000000e+00,  0.00000000e+00,  0.00000000e+00,\n",
       "         0.00000000e+00,  0.00000000e+00,  1.00000000e+00,\n",
       "         1.00000000e+00,  1.00000000e+00,  2.00000000e+00,\n",
       "         0.00000000e+00,  0.00000000e+00,  0.00000000e+00,\n",
       "         2.00000000e+00,  0.00000000e+00,  0.00000000e+00,\n",
       "         3.00000000e+00,  0.00000000e+00,  1.00000000e+00,\n",
       "         0.00000000e+00,  2.00000000e+00,  1.80000000e+01,\n",
       "         0.00000000e+00,  0.00000000e+00,  0.00000000e+00,\n",
       "         0.00000000e+00,  1.00000000e+00,  1.00000000e+00,\n",
       "         0.00000000e+00,  2.00000000e+00,  1.00000000e+00,\n",
       "         0.00000000e+00,  0.00000000e+00,  6.00000000e+00,\n",
       "         0.00000000e+00,  1.60000000e+01,  0.00000000e+00,\n",
       "         0.00000000e+00,  2.00000000e+00,  0.00000000e+00,\n",
       "         0.00000000e+00,  1.00000000e+00,  0.00000000e+00,\n",
       "         1.00000000e+00,  0.00000000e+00,  5.00000000e+00,\n",
       "         0.00000000e+00,  0.00000000e+00,  0.00000000e+00,\n",
       "         0.00000000e+00,  8.00000000e+00,  0.00000000e+00,\n",
       "         0.00000000e+00,  0.00000000e+00,  0.00000000e+00,\n",
       "         1.00000000e+00,  0.00000000e+00,  0.00000000e+00,\n",
       "         1.00000000e+00,  3.00000000e+00,  0.00000000e+00,\n",
       "         0.00000000e+00,  0.00000000e+00,  1.40000000e+01,\n",
       "         0.00000000e+00,  1.00000000e+00,  0.00000000e+00,\n",
       "         1.00000000e+00,  0.00000000e+00,  0.00000000e+00,\n",
       "         2.00000000e+00,  0.00000000e+00,  0.00000000e+00,\n",
       "         6.00000000e+00,  0.00000000e+00,  1.00000000e+00,\n",
       "         1.00000000e+00,  2.00000000e+00,  0.00000000e+00,\n",
       "         3.00000000e+00,  0.00000000e+00,  9.00000000e+00,\n",
       "         3.00000000e+00,  0.00000000e+00,  1.00000000e+00],\n",
       "       [ 0.00000000e+00,  2.00000000e+00,  0.00000000e+00,\n",
       "         9.00000000e+00,  0.00000000e+00,  0.00000000e+00,\n",
       "         0.00000000e+00,  4.00000000e+00,  0.00000000e+00,\n",
       "         0.00000000e+00,  0.00000000e+00,  0.00000000e+00,\n",
       "         2.00000000e+00,  0.00000000e+00,  0.00000000e+00,\n",
       "         0.00000000e+00,  0.00000000e+00,  0.00000000e+00,\n",
       "         0.00000000e+00,  0.00000000e+00,  8.00000000e+00,\n",
       "         0.00000000e+00,  0.00000000e+00,  0.00000000e+00,\n",
       "         3.00000000e+00,  4.00000000e+00,  0.00000000e+00,\n",
       "         0.00000000e+00,  3.00000000e+00,  2.00000000e+00,\n",
       "         0.00000000e+00,  0.00000000e+00,  0.00000000e+00,\n",
       "         0.00000000e+00,  0.00000000e+00,  0.00000000e+00,\n",
       "         2.00000000e+00,  0.00000000e+00,  1.00000000e+00,\n",
       "         0.00000000e+00,  2.00000000e+00,  1.00000000e+00,\n",
       "         0.00000000e+00,  0.00000000e+00,  0.00000000e+00,\n",
       "         0.00000000e+00,  3.00000000e+00,  0.00000000e+00,\n",
       "         0.00000000e+00,  0.00000000e+00,  1.00000000e+00,\n",
       "         0.00000000e+00,  0.00000000e+00,  0.00000000e+00,\n",
       "         0.00000000e+00,  0.00000000e+00,  0.00000000e+00,\n",
       "         0.00000000e+00,  0.00000000e+00,  0.00000000e+00,\n",
       "         0.00000000e+00,  0.00000000e+00,  0.00000000e+00,\n",
       "         2.00000000e+00,  0.00000000e+00,  1.00000000e+00,\n",
       "         0.00000000e+00,  0.00000000e+00,  3.00000000e+00,\n",
       "         0.00000000e+00,  3.00000000e+00,  3.00000000e+00,\n",
       "         3.00000000e+00,  0.00000000e+00,  0.00000000e+00,\n",
       "         0.00000000e+00,  0.00000000e+00,  2.00000000e+00,\n",
       "         3.00000000e+00,  2.00000000e+00,  2.00000000e+00,\n",
       "         6.00000000e+00,  0.00000000e+00,  0.00000000e+00,\n",
       "         0.00000000e+00,  2.00000000e+00,  0.00000000e+00,\n",
       "         5.00000000e+00,  0.00000000e+00,  0.00000000e+00,\n",
       "         0.00000000e+00,  0.00000000e+00,  0.00000000e+00,\n",
       "         0.00000000e+00,  0.00000000e+00,  0.00000000e+00,\n",
       "         1.00000000e+00,  5.00000000e+00,  1.50000000e+01,\n",
       "         0.00000000e+00,  0.00000000e+00,  0.00000000e+00,\n",
       "         0.00000000e+00,  0.00000000e+00,  0.00000000e+00,\n",
       "         0.00000000e+00,  0.00000000e+00,  0.00000000e+00,\n",
       "         0.00000000e+00,  0.00000000e+00,  0.00000000e+00,\n",
       "         6.00000000e+00,  0.00000000e+00,  0.00000000e+00,\n",
       "         7.00000000e+00,  2.00000000e+00,  3.00000000e+00,\n",
       "         0.00000000e+00,  0.00000000e+00,  6.00000000e+00,\n",
       "         0.00000000e+00,  2.40000000e+01,  0.00000000e+00,\n",
       "         0.00000000e+00,  4.00000000e+00,  0.00000000e+00,\n",
       "         0.00000000e+00,  1.00000000e+00,  0.00000000e+00,\n",
       "         0.00000000e+00,  0.00000000e+00,  3.00000000e+00,\n",
       "         1.00000000e+00,  1.00000000e+00,  1.00000000e+00,\n",
       "         2.00000000e+00,  7.00000000e+00,  5.00000000e+00,\n",
       "         3.00000000e+00,  0.00000000e+00,  6.00000000e+00,\n",
       "         0.00000000e+00,  0.00000000e+00,  1.00000000e+00,\n",
       "         1.00000000e+00,  0.00000000e+00,  2.00000000e+00,\n",
       "         0.00000000e+00,  0.00000000e+00,  6.00000000e+00,\n",
       "         0.00000000e+00,  1.00000000e+00,  0.00000000e+00,\n",
       "         0.00000000e+00,  0.00000000e+00,  0.00000000e+00,\n",
       "         0.00000000e+00,  1.00000000e+00,  0.00000000e+00,\n",
       "         0.00000000e+00,  0.00000000e+00,  0.00000000e+00,\n",
       "         0.00000000e+00,  0.00000000e+00,  0.00000000e+00,\n",
       "         0.00000000e+00,  0.00000000e+00,  0.00000000e+00,\n",
       "         0.00000000e+00,  0.00000000e+00,  1.00000000e+00,\n",
       "         0.00000000e+00,  0.00000000e+00,  1.00000000e+00,\n",
       "         0.00000000e+00,  0.00000000e+00,  3.00000000e+00,\n",
       "         0.00000000e+00,  0.00000000e+00,  0.00000000e+00,\n",
       "         0.00000000e+00,  0.00000000e+00,  0.00000000e+00,\n",
       "         0.00000000e+00,  2.00000000e+00,  0.00000000e+00,\n",
       "         0.00000000e+00,  0.00000000e+00,  0.00000000e+00,\n",
       "         0.00000000e+00,  0.00000000e+00,  0.00000000e+00,\n",
       "         0.00000000e+00,  1.00000000e+00,  7.00000000e+00,\n",
       "         0.00000000e+00,  0.00000000e+00,  0.00000000e+00,\n",
       "         0.00000000e+00,  0.00000000e+00,  0.00000000e+00,\n",
       "         0.00000000e+00,  0.00000000e+00,  0.00000000e+00,\n",
       "         0.00000000e+00,  0.00000000e+00,  8.00000000e+00,\n",
       "         0.00000000e+00,  0.00000000e+00,  0.00000000e+00,\n",
       "         0.00000000e+00,  0.00000000e+00,  0.00000000e+00,\n",
       "         0.00000000e+00,  0.00000000e+00,  3.00000000e+00,\n",
       "         0.00000000e+00,  0.00000000e+00,  0.00000000e+00,\n",
       "         1.00000000e+00,  0.00000000e+00,  0.00000000e+00,\n",
       "         0.00000000e+00,  0.00000000e+00,  9.00000000e+00,\n",
       "         0.00000000e+00,  1.00000000e+00,  3.00000000e+00],\n",
       "       [ 0.00000000e+00,  3.00000000e+00,  1.00000000e+00,\n",
       "         5.00000000e+00,  0.00000000e+00,  0.00000000e+00,\n",
       "         0.00000000e+00,  7.00000000e+00,  1.00000000e+00,\n",
       "         0.00000000e+00,  1.00000000e+00,  0.00000000e+00,\n",
       "         0.00000000e+00,  1.00000000e+00,  1.00000000e+00,\n",
       "         0.00000000e+00,  0.00000000e+00,  1.00000000e+00,\n",
       "         0.00000000e+00,  1.00000000e+00,  1.00000000e+00,\n",
       "         0.00000000e+00,  0.00000000e+00,  0.00000000e+00,\n",
       "         0.00000000e+00,  0.00000000e+00,  0.00000000e+00,\n",
       "         0.00000000e+00,  0.00000000e+00,  0.00000000e+00,\n",
       "         0.00000000e+00,  0.00000000e+00,  0.00000000e+00,\n",
       "         1.00000000e+00,  0.00000000e+00,  0.00000000e+00,\n",
       "         1.00000000e+00,  1.00000000e+00,  0.00000000e+00,\n",
       "         0.00000000e+00,  1.00000000e+00,  0.00000000e+00,\n",
       "         0.00000000e+00,  1.00000000e+00,  0.00000000e+00,\n",
       "         0.00000000e+00,  0.00000000e+00,  0.00000000e+00,\n",
       "         1.00000000e+00,  0.00000000e+00,  0.00000000e+00,\n",
       "         1.00000000e+00,  0.00000000e+00,  0.00000000e+00,\n",
       "         0.00000000e+00,  1.00000000e+00,  0.00000000e+00,\n",
       "         1.00000000e+00,  1.00000000e+00,  0.00000000e+00,\n",
       "         1.00000000e+00,  1.00000000e+00,  0.00000000e+00,\n",
       "         0.00000000e+00,  2.00000000e+00,  1.00000000e+00,\n",
       "         0.00000000e+00,  2.00000000e+00,  0.00000000e+00,\n",
       "         0.00000000e+00,  0.00000000e+00,  0.00000000e+00,\n",
       "         0.00000000e+00,  1.00000000e+00,  0.00000000e+00,\n",
       "         0.00000000e+00,  0.00000000e+00,  0.00000000e+00,\n",
       "         6.00000000e+00,  1.00000000e+00,  0.00000000e+00,\n",
       "         2.00000000e+00,  1.00000000e+00,  1.00000000e+00,\n",
       "         0.00000000e+00,  1.00000000e+00,  1.00000000e+00,\n",
       "         1.00000000e+01,  1.00000000e+00,  0.00000000e+00,\n",
       "         0.00000000e+00,  0.00000000e+00,  1.00000000e+00,\n",
       "         2.00000000e+00,  0.00000000e+00,  0.00000000e+00,\n",
       "         0.00000000e+00,  1.00000000e+00,  1.20000000e+01,\n",
       "         2.00000000e+00,  0.00000000e+00,  1.00000000e+00,\n",
       "         0.00000000e+00,  0.00000000e+00,  0.00000000e+00,\n",
       "         3.00000000e+00,  1.00000000e+00,  0.00000000e+00,\n",
       "         0.00000000e+00,  0.00000000e+00,  1.00000000e+00,\n",
       "         5.00000000e+00,  0.00000000e+00,  0.00000000e+00,\n",
       "         1.00000000e+00,  1.00000000e+00,  0.00000000e+00,\n",
       "         1.00000000e+00,  1.00000000e+00,  1.00000000e+00,\n",
       "         0.00000000e+00,  8.00000000e+00,  0.00000000e+00,\n",
       "         0.00000000e+00,  9.00000000e+00,  1.00000000e+00,\n",
       "         5.00000000e+00,  2.00000000e+00,  1.00000000e+00,\n",
       "         0.00000000e+00,  0.00000000e+00,  0.00000000e+00,\n",
       "         0.00000000e+00,  0.00000000e+00,  0.00000000e+00,\n",
       "         0.00000000e+00,  6.00000000e+00,  0.00000000e+00,\n",
       "         0.00000000e+00,  5.00000000e+00,  2.00000000e+00,\n",
       "         3.00000000e+00,  0.00000000e+00,  0.00000000e+00,\n",
       "         0.00000000e+00,  0.00000000e+00,  0.00000000e+00,\n",
       "         1.00000000e+00,  0.00000000e+00,  2.00000000e+00,\n",
       "         0.00000000e+00,  0.00000000e+00,  0.00000000e+00,\n",
       "         0.00000000e+00,  0.00000000e+00,  0.00000000e+00,\n",
       "         0.00000000e+00,  1.00000000e+00,  2.00000000e+00,\n",
       "         0.00000000e+00,  2.00000000e+00,  0.00000000e+00,\n",
       "         1.00000000e+00,  0.00000000e+00,  1.00000000e+00,\n",
       "         0.00000000e+00,  0.00000000e+00,  0.00000000e+00,\n",
       "         1.00000000e+00,  2.00000000e+00,  1.00000000e+00,\n",
       "         0.00000000e+00,  0.00000000e+00,  0.00000000e+00,\n",
       "         0.00000000e+00,  0.00000000e+00,  1.00000000e+00,\n",
       "         0.00000000e+00,  0.00000000e+00,  0.00000000e+00,\n",
       "         1.00000000e+00,  0.00000000e+00,  0.00000000e+00,\n",
       "         3.00000000e+00,  1.00000000e+00,  0.00000000e+00,\n",
       "         1.00000000e+00,  1.00000000e+00,  6.00000000e+00,\n",
       "         1.00000000e+00,  0.00000000e+00,  1.00000000e+00,\n",
       "         0.00000000e+00,  4.00000000e+00,  2.00000000e+00,\n",
       "         1.00000000e+00,  0.00000000e+00,  1.00000000e+00,\n",
       "         0.00000000e+00,  0.00000000e+00,  1.00000000e+00,\n",
       "         0.00000000e+00,  2.00000000e+00,  1.00000000e+00,\n",
       "         1.00000000e+00,  5.00000000e+00,  1.00000000e+00,\n",
       "         3.00000000e+00,  0.00000000e+00,  6.00000000e+00,\n",
       "         1.00000000e+00,  0.00000000e+00,  0.00000000e+00,\n",
       "         1.00000000e+00,  0.00000000e+00,  0.00000000e+00,\n",
       "         0.00000000e+00,  1.00000000e+00,  3.00000000e+00,\n",
       "         0.00000000e+00,  1.00000000e+00,  0.00000000e+00,\n",
       "         0.00000000e+00,  0.00000000e+00,  0.00000000e+00,\n",
       "         0.00000000e+00,  1.00000000e+00,  0.00000000e+00],\n",
       "       [ 0.00000000e+00,  0.00000000e+00,  0.00000000e+00,\n",
       "         4.00000000e+00,  0.00000000e+00,  1.00000000e+00,\n",
       "         1.00000000e+00,  0.00000000e+00,  0.00000000e+00,\n",
       "         0.00000000e+00,  0.00000000e+00,  0.00000000e+00,\n",
       "         1.00000000e+00,  0.00000000e+00,  0.00000000e+00,\n",
       "         0.00000000e+00,  0.00000000e+00,  0.00000000e+00,\n",
       "         0.00000000e+00,  0.00000000e+00,  1.00000000e+00,\n",
       "         0.00000000e+00,  1.00000000e+00,  0.00000000e+00,\n",
       "         0.00000000e+00,  0.00000000e+00,  0.00000000e+00,\n",
       "         3.00000000e+00,  0.00000000e+00,  0.00000000e+00,\n",
       "         1.00000000e+00,  1.00000000e+00,  0.00000000e+00,\n",
       "         1.00000000e+00,  0.00000000e+00,  1.00000000e+00,\n",
       "         1.00000000e+00,  1.00000000e+00,  1.00000000e+00,\n",
       "         1.00000000e+00,  0.00000000e+00,  0.00000000e+00,\n",
       "         0.00000000e+00,  0.00000000e+00,  0.00000000e+00,\n",
       "         0.00000000e+00,  1.00000000e+00,  0.00000000e+00,\n",
       "         0.00000000e+00,  0.00000000e+00,  0.00000000e+00,\n",
       "         1.00000000e+00,  0.00000000e+00,  0.00000000e+00,\n",
       "         0.00000000e+00,  1.00000000e+00,  0.00000000e+00,\n",
       "         0.00000000e+00,  0.00000000e+00,  0.00000000e+00,\n",
       "         0.00000000e+00,  0.00000000e+00,  0.00000000e+00,\n",
       "         0.00000000e+00,  0.00000000e+00,  2.00000000e+00,\n",
       "         0.00000000e+00,  0.00000000e+00,  0.00000000e+00,\n",
       "         0.00000000e+00,  0.00000000e+00,  2.00000000e+00,\n",
       "         0.00000000e+00,  1.00000000e+00,  1.00000000e+00,\n",
       "         0.00000000e+00,  0.00000000e+00,  0.00000000e+00,\n",
       "         0.00000000e+00,  4.00000000e+00,  0.00000000e+00,\n",
       "         3.00000000e+00,  0.00000000e+00,  0.00000000e+00,\n",
       "         0.00000000e+00,  0.00000000e+00,  0.00000000e+00,\n",
       "         1.00000000e+00,  0.00000000e+00,  0.00000000e+00,\n",
       "         0.00000000e+00,  0.00000000e+00,  0.00000000e+00,\n",
       "         0.00000000e+00,  0.00000000e+00,  0.00000000e+00,\n",
       "         0.00000000e+00,  4.00000000e+00,  4.00000000e+00,\n",
       "         0.00000000e+00,  0.00000000e+00,  1.00000000e+00,\n",
       "         0.00000000e+00,  0.00000000e+00,  0.00000000e+00,\n",
       "         0.00000000e+00,  0.00000000e+00,  1.00000000e+00,\n",
       "         1.00000000e+00,  0.00000000e+00,  0.00000000e+00,\n",
       "         1.00000000e+00,  1.00000000e+00,  0.00000000e+00,\n",
       "         1.00000000e+00,  4.00000000e+00,  0.00000000e+00,\n",
       "         0.00000000e+00,  0.00000000e+00,  1.00000000e+00,\n",
       "         0.00000000e+00,  1.70000000e+01,  0.00000000e+00,\n",
       "         1.00000000e+00,  2.00000000e+00,  0.00000000e+00,\n",
       "         0.00000000e+00,  3.00000000e+00,  0.00000000e+00,\n",
       "         1.00000000e+00,  0.00000000e+00,  0.00000000e+00,\n",
       "         0.00000000e+00,  0.00000000e+00,  0.00000000e+00,\n",
       "         0.00000000e+00,  0.00000000e+00,  2.00000000e+00,\n",
       "         1.00000000e+00,  0.00000000e+00,  1.00000000e+00,\n",
       "         0.00000000e+00,  1.00000000e+00,  0.00000000e+00,\n",
       "         0.00000000e+00,  0.00000000e+00,  0.00000000e+00,\n",
       "         0.00000000e+00,  0.00000000e+00,  1.00000000e+00,\n",
       "         0.00000000e+00,  1.00000000e+00,  0.00000000e+00,\n",
       "         1.00000000e+00,  0.00000000e+00,  1.00000000e+00,\n",
       "         0.00000000e+00,  1.00000000e+00,  0.00000000e+00,\n",
       "         0.00000000e+00,  0.00000000e+00,  1.00000000e+00,\n",
       "         0.00000000e+00,  0.00000000e+00,  0.00000000e+00,\n",
       "         0.00000000e+00,  0.00000000e+00,  0.00000000e+00,\n",
       "         1.00000000e+00,  0.00000000e+00,  1.00000000e+00,\n",
       "         0.00000000e+00,  0.00000000e+00,  1.00000000e+00,\n",
       "         1.00000000e+00,  0.00000000e+00,  2.00000000e+00,\n",
       "         1.00000000e+00,  0.00000000e+00,  0.00000000e+00,\n",
       "         0.00000000e+00,  0.00000000e+00,  0.00000000e+00,\n",
       "         0.00000000e+00,  1.00000000e+00,  1.00000000e+00,\n",
       "         0.00000000e+00,  0.00000000e+00,  1.00000000e+00,\n",
       "         0.00000000e+00,  0.00000000e+00,  0.00000000e+00,\n",
       "         0.00000000e+00,  2.00000000e+00,  1.00000000e+00,\n",
       "         0.00000000e+00,  0.00000000e+00,  0.00000000e+00,\n",
       "         0.00000000e+00,  0.00000000e+00,  0.00000000e+00,\n",
       "         3.00000000e+00,  1.00000000e+00,  0.00000000e+00,\n",
       "         0.00000000e+00,  0.00000000e+00,  3.00000000e+00,\n",
       "         0.00000000e+00,  0.00000000e+00,  1.00000000e+00,\n",
       "         2.00000000e+00,  1.00000000e+00,  1.00000000e+00,\n",
       "         0.00000000e+00,  0.00000000e+00,  0.00000000e+00,\n",
       "         0.00000000e+00,  0.00000000e+00,  1.00000000e+00,\n",
       "         0.00000000e+00,  0.00000000e+00,  0.00000000e+00,\n",
       "         0.00000000e+00,  1.00000000e+00,  4.00000000e+00,\n",
       "         0.00000000e+00,  1.00000000e+00,  0.00000000e+00]])"
      ]
     },
     "execution_count": 17,
     "metadata": {},
     "output_type": "execute_result"
    }
   ],
   "source": [
    "np.set_printoptions(threshold=np.inf)\n",
    "kmeans.cluster_centers_"
   ]
  },
  {
   "cell_type": "code",
   "execution_count": 38,
   "metadata": {},
   "outputs": [
    {
     "data": {
      "text/plain": [
       "[<matplotlib.lines.Line2D at 0x7f6073acfbe0>]"
      ]
     },
     "execution_count": 38,
     "metadata": {},
     "output_type": "execute_result"
    },
    {
     "data": {
      "image/png": "[encoded data removed]",
      "text/plain": [
       "<Figure size 432x288 with 1 Axes>"
      ]
     },
     "metadata": {
      "needs_background": "light"
     },
     "output_type": "display_data"
    }
   ],
   "source": [
    "plt.plot(kmeans.cluster_centers_[0])"
   ]
  },
  {
   "cell_type": "code",
   "execution_count": 72,
   "metadata": {},
   "outputs": [
    {
     "data": {
      "text/plain": [
       "['Restaurants',\n",
       " ' Coffee & Tea',\n",
       " ' Food',\n",
       " ' Restaurants',\n",
       " ' Fast Food',\n",
       " 'Airports',\n",
       " ' Hotels & Travel']"
      ]
     },
     "execution_count": 72,
     "metadata": {},
     "output_type": "execute_result"
    }
   ],
   "source": [
    "a = kmeans.cluster_centers_[0]\n",
    "values = [j for (i,j) in zip(a,X) if i >= 0.2]\n",
    "values"
   ]
  },
  {
   "cell_type": "code",
   "execution_count": 25,
   "metadata": {},
   "outputs": [
    {
     "data": {
      "text/plain": [
       "[<matplotlib.lines.Line2D at 0x7f6073d9f400>]"
      ]
     },
     "execution_count": 25,
     "metadata": {},
     "output_type": "execute_result"
    },
    {
     "data": {
      "image/png": "[encoded data removed]",
      "text/plain": [
       "<Figure size 432x288 with 1 Axes>"
      ]
     },
     "metadata": {
      "needs_background": "light"
     },
     "output_type": "display_data"
    }
   ],
   "source": [
    "plt.plot(kmeans.cluster_centers_[1])"
   ]
  },
  {
   "cell_type": "code",
   "execution_count": 64,
   "metadata": {},
   "outputs": [
    {
     "data": {
      "text/plain": [
       "['Restaurants',\n",
       " ' Fitness & Instruction',\n",
       " ' Food',\n",
       " ' Restaurants',\n",
       " ' Active Life',\n",
       " 'Gyms',\n",
       " ' American (Traditional)']"
      ]
     },
     "execution_count": 64,
     "metadata": {},
     "output_type": "execute_result"
    }
   ],
   "source": [
    "a = kmeans.cluster_centers_[1]\n",
    "values = [j for (i,j) in zip(a,X) if i >= 10]\n",
    "values"
   ]
  },
  {
   "cell_type": "code",
   "execution_count": 26,
   "metadata": {},
   "outputs": [
    {
     "data": {
      "text/plain": [
       "[<matplotlib.lines.Line2D at 0x7f6073f04da0>]"
      ]
     },
     "execution_count": 26,
     "metadata": {},
     "output_type": "execute_result"
    },
    {
     "data": {
      "image/png": "[encoded data removed]",
      "text/plain": [
       "<Figure size 432x288 with 1 Axes>"
      ]
     },
     "metadata": {
      "needs_background": "light"
     },
     "output_type": "display_data"
    }
   ],
   "source": [
    "plt.plot(kmeans.cluster_centers_[2])"
   ]
  },
  {
   "cell_type": "code",
   "execution_count": 67,
   "metadata": {},
   "outputs": [
    {
     "data": {
      "text/plain": [
       "['Restaurants',\n",
       " ' Burgers',\n",
       " ' Food',\n",
       " ' Beer',\n",
       " ' Restaurants',\n",
       " ' Automotive',\n",
       " ' Wine & Spirits',\n",
       " ' American (Traditional)',\n",
       " ' Bars']"
      ]
     },
     "execution_count": 67,
     "metadata": {},
     "output_type": "execute_result"
    }
   ],
   "source": [
    "a = kmeans.cluster_centers_[2]\n",
    "values = [j for (i,j) in zip(a,X) if i >= 7]\n",
    "values"
   ]
  },
  {
   "cell_type": "code",
   "execution_count": 28,
   "metadata": {},
   "outputs": [
    {
     "data": {
      "text/plain": [
       "[<matplotlib.lines.Line2D at 0x7f60745e4208>]"
      ]
     },
     "execution_count": 28,
     "metadata": {},
     "output_type": "execute_result"
    },
    {
     "data": {
      "image/png": "[encoded data removed]",
      "text/plain": [
       "<Figure size 432x288 with 1 Axes>"
      ]
     },
     "metadata": {
      "needs_background": "light"
     },
     "output_type": "display_data"
    }
   ],
   "source": [
    "plt.plot(kmeans.cluster_centers_[3])"
   ]
  },
  {
   "cell_type": "code",
   "execution_count": 68,
   "metadata": {},
   "outputs": [
    {
     "data": {
      "text/plain": [
       "[' Drugstores',\n",
       " ' Department Stores',\n",
       " 'Shopping',\n",
       " ' Food',\n",
       " ' Restaurants',\n",
       " ' Shopping',\n",
       " ' Automotive',\n",
       " ' Fashion',\n",
       " ' Home & Garden']"
      ]
     },
     "execution_count": 68,
     "metadata": {},
     "output_type": "execute_result"
    }
   ],
   "source": [
    "a = kmeans.cluster_centers_[3]\n",
    "values = [j for (i,j) in zip(a,X) if i >= 6]\n",
    "values"
   ]
  },
  {
   "cell_type": "code",
   "execution_count": 29,
   "metadata": {},
   "outputs": [
    {
     "data": {
      "text/plain": [
       "[<matplotlib.lines.Line2D at 0x7f6073e085c0>]"
      ]
     },
     "execution_count": 29,
     "metadata": {},
     "output_type": "execute_result"
    },
    {
     "data": {
      "image/png": "[encoded data removed]",
      "text/plain": [
       "<Figure size 432x288 with 1 Axes>"
      ]
     },
     "metadata": {
      "needs_background": "light"
     },
     "output_type": "display_data"
    }
   ],
   "source": [
    "plt.plot(kmeans.cluster_centers_[4])"
   ]
  },
  {
   "cell_type": "code",
   "execution_count": 69,
   "metadata": {},
   "outputs": [
    {
     "data": {
      "text/plain": [
       "['Restaurants',\n",
       " 'Fondue',\n",
       " ' Seafood',\n",
       " ' Nightlife',\n",
       " ' American (New)',\n",
       " ' Food',\n",
       " ' Sandwiches',\n",
       " ' Restaurants',\n",
       " ' Pizza',\n",
       " 'Italian',\n",
       " ' American (Traditional)',\n",
       " ' Bars']"
      ]
     },
     "execution_count": 69,
     "metadata": {},
     "output_type": "execute_result"
    }
   ],
   "source": [
    "a = kmeans.cluster_centers_[4]\n",
    "values = [j for (i,j) in zip(a,X) if i >= 3]\n",
    "values"
   ]
  }
 ],
 "metadata": {
  "kernelspec": {
   "display_name": "Python 3",
   "language": "python",
   "name": "python3"
  },
  "language_info": {
   "codemirror_mode": {
    "name": "ipython",
    "version": 3
   },
   "file_extension": ".py",
   "mimetype": "text/x-python",
   "name": "python",
   "nbconvert_exporter": "python",
   "pygments_lexer": "ipython3",
   "version": "3.5.2"
  }
 },
 "nbformat": 4,
 "nbformat_minor": 2
}
